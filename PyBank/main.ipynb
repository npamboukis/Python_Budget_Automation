{
 "cells": [
  {
   "cell_type": "code",
   "execution_count": 4,
   "id": "c93a4f1c-0700-4022-8d66-c9ada4f8bb7a",
   "metadata": {},
   "outputs": [],
   "source": [
    "# Import libraries\n",
    "import csv\n",
    "import os\n",
    "from pathlib import Path"
   ]
  },
  {
   "cell_type": "code",
   "execution_count": 5,
   "id": "7a32d502-3023-4f92-8949-1cd8dd979269",
   "metadata": {},
   "outputs": [],
   "source": [
    "# Set path to csv file\n",
    "csvpath = Path('../PyBank/budget_data.csv')\n",
    "\n",
    "# Hold the total amount of profit\n",
    "net_profit = []\n"
   ]
  },
  {
   "cell_type": "code",
   "execution_count": 6,
   "id": "d6e64b7f-09e0-4dd7-9b17-98fc53b33866",
   "metadata": {},
   "outputs": [
    {
     "ename": "NameError",
     "evalue": "name 'date' is not defined",
     "output_type": "error",
     "traceback": [
      "\u001b[0;31m---------------------------------------------------------------------------\u001b[0m",
      "\u001b[0;31mNameError\u001b[0m                                 Traceback (most recent call last)",
      "\u001b[0;32m<ipython-input-6-450fdbc5441a>\u001b[0m in \u001b[0;36m<module>\u001b[0;34m\u001b[0m\n\u001b[1;32m     16\u001b[0m         \u001b[0;31m# Append profit into net_profit\u001b[0m\u001b[0;34m\u001b[0m\u001b[0;34m\u001b[0m\u001b[0;34m\u001b[0m\u001b[0m\n\u001b[1;32m     17\u001b[0m         \u001b[0mnet_profit\u001b[0m\u001b[0;34m.\u001b[0m\u001b[0mappend\u001b[0m\u001b[0;34m(\u001b[0m\u001b[0mprofit\u001b[0m\u001b[0;34m)\u001b[0m\u001b[0;34m\u001b[0m\u001b[0;34m\u001b[0m\u001b[0m\n\u001b[0;32m---> 18\u001b[0;31m         \u001b[0mdate\u001b[0m\u001b[0;34m.\u001b[0m\u001b[0mappend\u001b[0m\u001b[0;34m(\u001b[0m\u001b[0mrow\u001b[0m\u001b[0;34m[\u001b[0m\u001b[0;36m0\u001b[0m\u001b[0;34m]\u001b[0m\u001b[0;34m)\u001b[0m\u001b[0;34m\u001b[0m\u001b[0;34m\u001b[0m\u001b[0m\n\u001b[0m\u001b[1;32m     19\u001b[0m \u001b[0;34m\u001b[0m\u001b[0m\n",
      "\u001b[0;31mNameError\u001b[0m: name 'date' is not defined"
     ]
    }
   ],
   "source": [
    "with open(csvpath, 'r') as csvfile:\n",
    "    \n",
    "    csvreader = csv.reader(csvfile, delimiter=\",\")\n",
    "    \n",
    "    \n",
    "    # Skip header row\n",
    "    header = next(csvreader)\n",
    "    line_num = 0\n",
    "    \n",
    "    for row in csvreader:\n",
    "        \n",
    "        line_num +=1\n",
    "        \n",
    "        # Add data to net_profit\n",
    "        profit = int(row[1])\n",
    "        # Append profit into net_profit\n",
    "        net_profit.append(profit)\n",
    "        date.append(row[0])\n",
    "        "
   ]
  },
  {
   "cell_type": "code",
   "execution_count": 7,
   "id": "8291f6be-70d3-4858-9183-85f460b11f48",
   "metadata": {},
   "outputs": [],
   "source": [
    "max_profit = 0\n",
    "min_profit = 0\n",
    "avg_profit = 0\n",
    "total_profit = 0\n",
    "profit_change = []\n"
   ]
  },
  {
   "cell_type": "code",
   "execution_count": 10,
   "id": "d48b0d4b-935a-4877-8463-fb123e6ef40f",
   "metadata": {},
   "outputs": [
    {
     "name": "stdout",
     "output_type": "stream",
     "text": [
      "1735768\n"
     ]
    }
   ],
   "source": [
    "for profit in net_profit:\n",
    "    \n",
    "    total_profit += profit\n",
    "    \n",
    "print(total_profit)\n",
    "    "
   ]
  },
  {
   "cell_type": "code",
   "execution_count": 9,
   "id": "e5181818-4d20-478f-b5a8-18eab596d4f7",
   "metadata": {},
   "outputs": [],
   "source": [
    "# Change in Profit\n",
    "for i in range(1, len(net_profit)):\n",
    "    \n",
    "    profit_change.append(net_profit[i] - net_profit[i-1])\n",
    "    \n",
    "    avg_profit = sum(profit_change) / len(profit_change)\n",
    "    \n",
    "    max_profit = max(profit_change)\n",
    "    \n",
    "    min_profit = min(profit_change)\n",
    "    \n",
    "    max_date = str(date[profit_change.index(max(profit_change)) +1])\n",
    "    min_date = str(date[profit_change.index(min(profit_change)) +1])"
   ]
  },
  {
   "cell_type": "code",
   "execution_count": 11,
   "id": "3c4a4926-3f2d-4a70-ad18-d1c158f763a3",
   "metadata": {},
   "outputs": [
    {
     "name": "stdout",
     "output_type": "stream",
     "text": [
      "\n",
      "Financial Analysis\n",
      "--------------------------\n",
      "\n",
      "Total Months: 1\n",
      "Total: $1735768\n",
      "Average Change: $0\n"
     ]
    },
    {
     "ename": "NameError",
     "evalue": "name 'max_date' is not defined",
     "output_type": "error",
     "traceback": [
      "\u001b[0;31m---------------------------------------------------------------------------\u001b[0m",
      "\u001b[0;31mNameError\u001b[0m                                 Traceback (most recent call last)",
      "\u001b[0;32m<ipython-input-11-acda3ae260fc>\u001b[0m in \u001b[0;36m<module>\u001b[0;34m\u001b[0m\n\u001b[1;32m      5\u001b[0m \u001b[0mprint\u001b[0m\u001b[0;34m(\u001b[0m\u001b[0;34mf\"Total: ${total_profit}\"\u001b[0m\u001b[0;34m)\u001b[0m\u001b[0;34m\u001b[0m\u001b[0;34m\u001b[0m\u001b[0m\n\u001b[1;32m      6\u001b[0m \u001b[0mprint\u001b[0m\u001b[0;34m(\u001b[0m\u001b[0;34mf\"Average Change: ${round(avg_profit,2)}\"\u001b[0m\u001b[0;34m)\u001b[0m\u001b[0;34m\u001b[0m\u001b[0;34m\u001b[0m\u001b[0m\n\u001b[0;32m----> 7\u001b[0;31m \u001b[0mprint\u001b[0m\u001b[0;34m(\u001b[0m\u001b[0;34mf\"Greatest Increase in Profits: {max_date} $({max_profit})\"\u001b[0m\u001b[0;34m)\u001b[0m\u001b[0;34m\u001b[0m\u001b[0;34m\u001b[0m\u001b[0m\n\u001b[0m\u001b[1;32m      8\u001b[0m \u001b[0mprint\u001b[0m\u001b[0;34m(\u001b[0m\u001b[0;34mf\"Greatest Decrease in Profits: {min_date} $({min_profit})\\n\"\u001b[0m\u001b[0;34m)\u001b[0m\u001b[0;34m\u001b[0m\u001b[0;34m\u001b[0m\u001b[0m\n",
      "\u001b[0;31mNameError\u001b[0m: name 'max_date' is not defined"
     ]
    }
   ],
   "source": [
    "print(\"\")\n",
    "print(f\"Financial Analysis\")\n",
    "print(f\"--------------------------\\n\")\n",
    "print(f\"Total Months: {line_num}\")\n",
    "print(f\"Total: ${total_profit}\")\n",
    "print(f\"Average Change: ${round(avg_profit,2)}\")\n",
    "print(f\"Greatest Increase in Profits: {max_date} $({max_profit})\")\n",
    "print(f\"Greatest Decrease in Profits: {min_date} $({min_profit})\\n\")"
   ]
  },
  {
   "cell_type": "code",
   "execution_count": null,
   "id": "5e219df4-1782-4abf-9f70-895e3fdc73ba",
   "metadata": {},
   "outputs": [],
   "source": []
  }
 ],
 "metadata": {
  "kernelspec": {
   "display_name": "Python 3",
   "language": "python",
   "name": "python3"
  },
  "language_info": {
   "codemirror_mode": {
    "name": "ipython",
    "version": 3
   },
   "file_extension": ".py",
   "mimetype": "text/x-python",
   "name": "python",
   "nbconvert_exporter": "python",
   "pygments_lexer": "ipython3",
   "version": "3.7.13"
  }
 },
 "nbformat": 4,
 "nbformat_minor": 5
}
