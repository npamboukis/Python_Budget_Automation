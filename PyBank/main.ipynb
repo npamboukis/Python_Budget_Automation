{
 "cells": [
  {
   "cell_type": "code",
   "execution_count": 69,
   "id": "c93a4f1c-0700-4022-8d66-c9ada4f8bb7a",
   "metadata": {},
   "outputs": [],
   "source": [
    "# Import libraries\n",
    "import csv\n",
    "import os\n",
    "from pathlib import Path"
   ]
  },
  {
   "cell_type": "code",
   "execution_count": 70,
   "id": "7a32d502-3023-4f92-8949-1cd8dd979269",
   "metadata": {},
   "outputs": [],
   "source": [
    "# Set path to csv file\n",
    "csvpath = Path('../PyBank/budget_data.csv')\n",
    "\n",
    "# Hold the total amount of profit\n",
    "net_profit = []\n"
   ]
  },
  {
   "cell_type": "code",
   "execution_count": 75,
   "id": "d6e64b7f-09e0-4dd7-9b17-98fc53b33866",
   "metadata": {},
   "outputs": [],
   "source": [
    "with open(csvpath, 'r') as csvfile:\n",
    "    \n",
    "    csvreader = csv.reader(csvfile, delimiter=\",\")\n",
    "    \n",
    "    \n",
    "    # Skip header row\n",
    "    header = next(csvreader)\n",
    "    line_num = 0\n",
    "    \n",
    "    for row in csvreader:\n",
    "        \n",
    "        line_num +=1\n",
    "        \n",
    "        # Add data to net_profit\n",
    "        profit = int(row[1])\n",
    "        # Append profit into net_profit\n",
    "        net_profit.append(profit)\n",
    "        \n",
    "    # print(line_num)\n",
    "    # print(net_profit)\n",
    "        "
   ]
  },
  {
   "cell_type": "code",
   "execution_count": 82,
   "id": "8291f6be-70d3-4858-9183-85f460b11f48",
   "metadata": {},
   "outputs": [
    {
     "data": {
      "text/plain": [
       "86"
      ]
     },
     "execution_count": 82,
     "metadata": {},
     "output_type": "execute_result"
    }
   ],
   "source": [
    "max_profit = 0\n",
    "min_profit = 0\n",
    "avg_profit = 0\n",
    "total_profit = 0\n"
   ]
  },
  {
   "cell_type": "code",
   "execution_count": 114,
   "id": "d48b0d4b-935a-4877-8463-fb123e6ef40f",
   "metadata": {},
   "outputs": [
    {
     "name": "stdout",
     "output_type": "stream",
     "text": [
      "4759439672\n"
     ]
    }
   ],
   "source": [
    "for profit in net_profit:\n",
    "    \n",
    "    total_profit += profit\n",
    "    \n",
    "    if min_profit == 0:\n",
    "        min_profit = profit\n",
    "    elif profit < min_profit:\n",
    "        min_profit = profit\n",
    "    elif profit > max_profit:\n",
    "        max_profit = profit\n",
    "    \n",
    "print(total_profit)\n",
    "    "
   ]
  },
  {
   "cell_type": "code",
   "execution_count": null,
   "id": "e5181818-4d20-478f-b5a8-18eab596d4f7",
   "metadata": {},
   "outputs": [],
   "source": []
  },
  {
   "cell_type": "code",
   "execution_count": null,
   "id": "3c4a4926-3f2d-4a70-ad18-d1c158f763a3",
   "metadata": {},
   "outputs": [],
   "source": []
  }
 ],
 "metadata": {
  "kernelspec": {
   "display_name": "Python 3",
   "language": "python",
   "name": "python3"
  },
  "language_info": {
   "codemirror_mode": {
    "name": "ipython",
    "version": 3
   },
   "file_extension": ".py",
   "mimetype": "text/x-python",
   "name": "python",
   "nbconvert_exporter": "python",
   "pygments_lexer": "ipython3",
   "version": "3.7.13"
  }
 },
 "nbformat": 4,
 "nbformat_minor": 5
}
